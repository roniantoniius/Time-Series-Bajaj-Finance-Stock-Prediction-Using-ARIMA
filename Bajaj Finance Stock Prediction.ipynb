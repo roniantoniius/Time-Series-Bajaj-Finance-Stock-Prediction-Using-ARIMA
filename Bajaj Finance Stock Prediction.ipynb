{
 "cells": [
  {
   "cell_type": "markdown",
   "id": "a6a5c516",
   "metadata": {},
   "source": [
    "## Projek Prediksi Harga Stok Saham BajFinance : Time Series Analysis Using ARIMA🤨 🧐 \n",
    "\n",
    "### 1. Business Understanding 😇 \n",
    "Projek kali ini saya tertarik untuk mengeksplorasi prediksi harga stok saham BajFinance menggunakan data dari tahun 2000 hingga 2020. Seperti yang kita ketahui, harga saham merupakan informasi yang sangat berharga dalam dunia keuangan 💰💼. Sebagai seorang data scientist, saya ingin membantu investor dan analis pasar untuk memperkirakan perilaku harga saham BajFinance di masa mendatang.\n",
    "\n",
    "Dengan menggunakan teknik machine learning, saya akan membuat model untuk memprediksi pergerakan harga saham. Hal ini akan memberikan wawasan yang berharga kepada para investor dalam pengambilan keputusan investasi mereka. Kita akan memanfaatkan dataset historis harga saham BajFinance sebagai bahan pelatihan model kita.\n",
    "\n",
    "Tujuan akhir dari projek ini adalah memberikan prediksi yang akurat mengenai harga saham BajFinance di masa depan, sehingga investor dapat membuat keputusan investasi yang lebih baik. Whats goood Letsgo! 💪📈'\n",
    "\n",
    "\n",
    "### 2. Data Understanding 😁\n",
    "'Dataset ini berisikan 5 ribu data mengenai perdagangan saham BAJFINANCE selama periode 2000-2020. Setiap data merekam informasi tentang harga pembukaan, harga penutupan, harga tertinggi, dan harga terendah saham BAJFINANCE pada hari itu. Selain itu, dataset ini juga mencatat rata-rata harga saham berdasarkan volume perdagangan (VWAP), jumlah saham yang diperdagangkan, nilai total transaksi dalam mata uang tertentu, serta informasi tentang jumlah perdagangan dan jumlah saham yang dikirimkan secara fisik. Dengan menggunakan dataset ini, analis pasar dapat mengidentifikasi tren harga, volume perdagangan, serta mengembangkan model prediksi untuk memperkirakan perilaku pasar saham BAJFINANCE di masa mendatang.'\n",
    "\n",
    " Dataset tersebut berisikan fitur:\n",
    "- Date: Tanggal transaksi saham.\n",
    "- Symbol: Simbol saham.\n",
    "- Series: Jenis seri saham (misalnya, EQ untuk ekuitas).\n",
    "- Prev Close: Harga penutupan saham sebelumnya.\n",
    "- Open: Harga pembukaan saham pada hari itu.\n",
    "- High: Harga tertinggi saham pada hari itu.\n",
    "- Low: Harga terendah saham pada hari itu.\n",
    "- Last: Harga terakhir yang tercatat untuk hari itu.\n",
    "- Close: Harga penutupan saham pada hari itu.\n",
    "- VWAP (Volume Weighted Average Price): Rata-rata harga saham berdasarkan volume perdagangan. (Dependent)\n",
    "- Volume: Jumlah saham yang diperdagangkan.\n",
    "- Turnover: Nilai total transaksi dalam mata uang tertentu.\n",
    "- Trades: Jumlah perdagangan yang terjadi.\n",
    "- Deliverable Volume: Jumlah saham yang dikirimkan secara fisik.\n",
    "- %Deliverble: Persentase dari volume saham yang dikirimkan secara fisik.\n",
    "\n",
    "\n",
    "### 3. Data Preparation: \n",
    "- Cleaning data\n",
    "- Feature Engineering 😢\n",
    "- Stationarity Checking\n",
    "- Making Time Series Data --> Stationary\n",
    "\n",
    "\n",
    "### 4. Modelling 😨 😰\n",
    "- ARIMA\n",
    "- Auto ARIMA\n",
    "\n",
    "### 5. Evaluation 🧐 🤓 😎\n",
    "- MSE\n",
    "- MAE"
   ]
  },
  {
   "cell_type": "code",
   "execution_count": 1,
   "id": "ad2d6ae6",
   "metadata": {},
   "outputs": [
    {
     "name": "stdout",
     "output_type": "stream",
     "text": [
      "Requirement already satisfied: pmdarima in c:\\users\\asus\\anaconda3\\lib\\site-packages (2.0.4)\n",
      "Requirement already satisfied: joblib>=0.11 in c:\\users\\asus\\anaconda3\\lib\\site-packages (from pmdarima) (1.2.0)\n",
      "Requirement already satisfied: Cython!=0.29.18,!=0.29.31,>=0.29 in c:\\users\\asus\\anaconda3\\lib\\site-packages (from pmdarima) (3.0.10)\n",
      "Requirement already satisfied: numpy>=1.21.2 in c:\\users\\asus\\anaconda3\\lib\\site-packages (from pmdarima) (1.24.3)\n",
      "Requirement already satisfied: pandas>=0.19 in c:\\users\\asus\\anaconda3\\lib\\site-packages (from pmdarima) (2.0.3)\n",
      "Requirement already satisfied: scikit-learn>=0.22 in c:\\users\\asus\\anaconda3\\lib\\site-packages (from pmdarima) (1.4.1.post1)\n",
      "Requirement already satisfied: scipy>=1.3.2 in c:\\users\\asus\\anaconda3\\lib\\site-packages (from pmdarima) (1.11.1)\n",
      "Requirement already satisfied: statsmodels>=0.13.2 in c:\\users\\asus\\anaconda3\\lib\\site-packages (from pmdarima) (0.14.0)\n",
      "Requirement already satisfied: urllib3 in c:\\users\\asus\\anaconda3\\lib\\site-packages (from pmdarima) (1.26.16)\n",
      "Requirement already satisfied: setuptools!=50.0.0,>=38.6.0 in c:\\users\\asus\\anaconda3\\lib\\site-packages (from pmdarima) (68.0.0)\n",
      "Requirement already satisfied: packaging>=17.1 in c:\\users\\asus\\appdata\\roaming\\python\\python311\\site-packages (from pmdarima) (24.0)\n",
      "Requirement already satisfied: python-dateutil>=2.8.2 in c:\\users\\asus\\appdata\\roaming\\python\\python311\\site-packages (from pandas>=0.19->pmdarima) (2.9.0.post0)\n",
      "Requirement already satisfied: pytz>=2020.1 in c:\\users\\asus\\anaconda3\\lib\\site-packages (from pandas>=0.19->pmdarima) (2023.3.post1)\n",
      "Requirement already satisfied: tzdata>=2022.1 in c:\\users\\asus\\anaconda3\\lib\\site-packages (from pandas>=0.19->pmdarima) (2023.3)\n",
      "Requirement already satisfied: threadpoolctl>=2.0.0 in c:\\users\\asus\\anaconda3\\lib\\site-packages (from scikit-learn>=0.22->pmdarima) (2.2.0)\n",
      "Requirement already satisfied: patsy>=0.5.2 in c:\\users\\asus\\anaconda3\\lib\\site-packages (from statsmodels>=0.13.2->pmdarima) (0.5.3)\n",
      "Requirement already satisfied: six in c:\\users\\asus\\appdata\\roaming\\python\\python311\\site-packages (from patsy>=0.5.2->statsmodels>=0.13.2->pmdarima) (1.16.0)\n"
     ]
    }
   ],
   "source": [
    "!pip install pmdarima"
   ]
  },
  {
   "cell_type": "code",
   "execution_count": 2,
   "id": "56c20e30",
   "metadata": {},
   "outputs": [],
   "source": [
    "from pyforest import *\n",
    "import warnings\n",
    "\n",
    "\n",
    "import statsmodels.api as sm\n",
    "from statsmodels.tsa.stattools import adfuller\n",
    "from statsmodels.tsa.seasonal import seasonal_decompose\n",
    "from statsmodels.tsa.arima.model import ARIMA\n",
    "from statsmodels.graphics.tsaplots import plot_pacf, plot_acf\n",
    "\n",
    "import seaborn as sns\n",
    "import matplotlib.pyplot as plt\n",
    "%matplotlib inline\n",
    "\n",
    "import warnings\n",
    "warnings.filterwarnings('ignore')\n"
   ]
  },
  {
   "cell_type": "code",
   "execution_count": 3,
   "id": "4b6fe104",
   "metadata": {},
   "outputs": [
    {
     "data": {
      "application/javascript": [
       "\n",
       "        if (window._pyforest_update_imports_cell) { window._pyforest_update_imports_cell('import os'); }\n",
       "    "
      ],
      "text/plain": [
       "<IPython.core.display.Javascript object>"
      ]
     },
     "metadata": {},
     "output_type": "display_data"
    },
    {
     "data": {
      "application/javascript": [
       "\n",
       "        if (window._pyforest_update_imports_cell) { window._pyforest_update_imports_cell('import pandas as pd\\nimport os'); }\n",
       "    "
      ],
      "text/plain": [
       "<IPython.core.display.Javascript object>"
      ]
     },
     "metadata": {},
     "output_type": "display_data"
    },
    {
     "data": {
      "application/javascript": [
       "\n",
       "        if (window._pyforest_update_imports_cell) { window._pyforest_update_imports_cell('import pandas as pd\\nimport os'); }\n",
       "    "
      ],
      "text/plain": [
       "<IPython.core.display.Javascript object>"
      ]
     },
     "metadata": {},
     "output_type": "display_data"
    }
   ],
   "source": [
    "folder_path = 'C:/Users/ASUS/kode/projek/stok_harga/'\n",
    "os.listdir(folder_path)\n",
    "df= pd.read_csv(os.path.join(folder_path, 'BAJFINANCE.csv'))"
   ]
  },
  {
   "cell_type": "code",
   "execution_count": 4,
   "id": "e9fa0489",
   "metadata": {},
   "outputs": [
    {
     "data": {
      "text/html": [
       "<div>\n",
       "<style scoped>\n",
       "    .dataframe tbody tr th:only-of-type {\n",
       "        vertical-align: middle;\n",
       "    }\n",
       "\n",
       "    .dataframe tbody tr th {\n",
       "        vertical-align: top;\n",
       "    }\n",
       "\n",
       "    .dataframe thead th {\n",
       "        text-align: right;\n",
       "    }\n",
       "</style>\n",
       "<table border=\"1\" class=\"dataframe\">\n",
       "  <thead>\n",
       "    <tr style=\"text-align: right;\">\n",
       "      <th></th>\n",
       "      <th>Date</th>\n",
       "      <th>Symbol</th>\n",
       "      <th>Series</th>\n",
       "      <th>Prev Close</th>\n",
       "      <th>Open</th>\n",
       "      <th>High</th>\n",
       "      <th>Low</th>\n",
       "      <th>Last</th>\n",
       "      <th>Close</th>\n",
       "      <th>VWAP</th>\n",
       "      <th>Volume</th>\n",
       "      <th>Turnover</th>\n",
       "      <th>Trades</th>\n",
       "      <th>Deliverable Volume</th>\n",
       "      <th>%Deliverble</th>\n",
       "    </tr>\n",
       "  </thead>\n",
       "  <tbody>\n",
       "    <tr>\n",
       "      <th>0</th>\n",
       "      <td>2000-01-03</td>\n",
       "      <td>BAJAUTOFIN</td>\n",
       "      <td>EQ</td>\n",
       "      <td>46.95</td>\n",
       "      <td>49.45</td>\n",
       "      <td>50.75</td>\n",
       "      <td>46.50</td>\n",
       "      <td>50.75</td>\n",
       "      <td>50.75</td>\n",
       "      <td>50.05</td>\n",
       "      <td>7600</td>\n",
       "      <td>3.803800e+10</td>\n",
       "      <td>NaN</td>\n",
       "      <td>NaN</td>\n",
       "      <td>NaN</td>\n",
       "    </tr>\n",
       "    <tr>\n",
       "      <th>1</th>\n",
       "      <td>2000-01-04</td>\n",
       "      <td>BAJAUTOFIN</td>\n",
       "      <td>EQ</td>\n",
       "      <td>50.75</td>\n",
       "      <td>53.20</td>\n",
       "      <td>53.20</td>\n",
       "      <td>47.90</td>\n",
       "      <td>48.00</td>\n",
       "      <td>48.10</td>\n",
       "      <td>48.56</td>\n",
       "      <td>5000</td>\n",
       "      <td>2.428000e+10</td>\n",
       "      <td>NaN</td>\n",
       "      <td>NaN</td>\n",
       "      <td>NaN</td>\n",
       "    </tr>\n",
       "    <tr>\n",
       "      <th>2</th>\n",
       "      <td>2000-01-05</td>\n",
       "      <td>BAJAUTOFIN</td>\n",
       "      <td>EQ</td>\n",
       "      <td>48.10</td>\n",
       "      <td>46.55</td>\n",
       "      <td>47.40</td>\n",
       "      <td>44.60</td>\n",
       "      <td>44.60</td>\n",
       "      <td>44.60</td>\n",
       "      <td>45.47</td>\n",
       "      <td>3500</td>\n",
       "      <td>1.591450e+10</td>\n",
       "      <td>NaN</td>\n",
       "      <td>NaN</td>\n",
       "      <td>NaN</td>\n",
       "    </tr>\n",
       "    <tr>\n",
       "      <th>3</th>\n",
       "      <td>2000-01-06</td>\n",
       "      <td>BAJAUTOFIN</td>\n",
       "      <td>EQ</td>\n",
       "      <td>44.60</td>\n",
       "      <td>43.50</td>\n",
       "      <td>46.00</td>\n",
       "      <td>42.10</td>\n",
       "      <td>46.00</td>\n",
       "      <td>45.25</td>\n",
       "      <td>44.43</td>\n",
       "      <td>6200</td>\n",
       "      <td>2.754750e+10</td>\n",
       "      <td>NaN</td>\n",
       "      <td>NaN</td>\n",
       "      <td>NaN</td>\n",
       "    </tr>\n",
       "    <tr>\n",
       "      <th>4</th>\n",
       "      <td>2000-01-07</td>\n",
       "      <td>BAJAUTOFIN</td>\n",
       "      <td>EQ</td>\n",
       "      <td>45.25</td>\n",
       "      <td>48.00</td>\n",
       "      <td>48.00</td>\n",
       "      <td>42.00</td>\n",
       "      <td>42.90</td>\n",
       "      <td>42.90</td>\n",
       "      <td>44.44</td>\n",
       "      <td>3500</td>\n",
       "      <td>1.555550e+10</td>\n",
       "      <td>NaN</td>\n",
       "      <td>NaN</td>\n",
       "      <td>NaN</td>\n",
       "    </tr>\n",
       "    <tr>\n",
       "      <th>...</th>\n",
       "      <td>...</td>\n",
       "      <td>...</td>\n",
       "      <td>...</td>\n",
       "      <td>...</td>\n",
       "      <td>...</td>\n",
       "      <td>...</td>\n",
       "      <td>...</td>\n",
       "      <td>...</td>\n",
       "      <td>...</td>\n",
       "      <td>...</td>\n",
       "      <td>...</td>\n",
       "      <td>...</td>\n",
       "      <td>...</td>\n",
       "      <td>...</td>\n",
       "      <td>...</td>\n",
       "    </tr>\n",
       "    <tr>\n",
       "      <th>5065</th>\n",
       "      <td>2020-08-25</td>\n",
       "      <td>BAJFINANCE</td>\n",
       "      <td>EQ</td>\n",
       "      <td>3492.05</td>\n",
       "      <td>3525.00</td>\n",
       "      <td>3660.00</td>\n",
       "      <td>3510.00</td>\n",
       "      <td>3658.00</td>\n",
       "      <td>3642.90</td>\n",
       "      <td>3579.12</td>\n",
       "      <td>9854070</td>\n",
       "      <td>3.526895e+15</td>\n",
       "      <td>339815.0</td>\n",
       "      <td>1498309.0</td>\n",
       "      <td>0.1520</td>\n",
       "    </tr>\n",
       "    <tr>\n",
       "      <th>5066</th>\n",
       "      <td>2020-08-26</td>\n",
       "      <td>BAJFINANCE</td>\n",
       "      <td>EQ</td>\n",
       "      <td>3642.90</td>\n",
       "      <td>3665.00</td>\n",
       "      <td>3707.00</td>\n",
       "      <td>3631.00</td>\n",
       "      <td>3638.20</td>\n",
       "      <td>3645.55</td>\n",
       "      <td>3668.17</td>\n",
       "      <td>6665336</td>\n",
       "      <td>2.444958e+15</td>\n",
       "      <td>213994.0</td>\n",
       "      <td>944373.0</td>\n",
       "      <td>0.1417</td>\n",
       "    </tr>\n",
       "    <tr>\n",
       "      <th>5067</th>\n",
       "      <td>2020-08-27</td>\n",
       "      <td>BAJFINANCE</td>\n",
       "      <td>EQ</td>\n",
       "      <td>3645.55</td>\n",
       "      <td>3656.95</td>\n",
       "      <td>3668.40</td>\n",
       "      <td>3596.40</td>\n",
       "      <td>3636.00</td>\n",
       "      <td>3632.50</td>\n",
       "      <td>3631.13</td>\n",
       "      <td>4611132</td>\n",
       "      <td>1.674361e+15</td>\n",
       "      <td>162374.0</td>\n",
       "      <td>387513.0</td>\n",
       "      <td>0.0840</td>\n",
       "    </tr>\n",
       "    <tr>\n",
       "      <th>5068</th>\n",
       "      <td>2020-08-28</td>\n",
       "      <td>BAJFINANCE</td>\n",
       "      <td>EQ</td>\n",
       "      <td>3632.50</td>\n",
       "      <td>3650.00</td>\n",
       "      <td>3688.00</td>\n",
       "      <td>3617.05</td>\n",
       "      <td>3672.05</td>\n",
       "      <td>3670.80</td>\n",
       "      <td>3652.77</td>\n",
       "      <td>4251575</td>\n",
       "      <td>1.553003e+15</td>\n",
       "      <td>137033.0</td>\n",
       "      <td>434147.0</td>\n",
       "      <td>0.1021</td>\n",
       "    </tr>\n",
       "    <tr>\n",
       "      <th>5069</th>\n",
       "      <td>2020-08-31</td>\n",
       "      <td>BAJFINANCE</td>\n",
       "      <td>EQ</td>\n",
       "      <td>3670.80</td>\n",
       "      <td>3715.00</td>\n",
       "      <td>3749.85</td>\n",
       "      <td>3465.00</td>\n",
       "      <td>3478.50</td>\n",
       "      <td>3487.80</td>\n",
       "      <td>3602.93</td>\n",
       "      <td>8529788</td>\n",
       "      <td>3.073224e+15</td>\n",
       "      <td>293454.0</td>\n",
       "      <td>1321559.0</td>\n",
       "      <td>0.1549</td>\n",
       "    </tr>\n",
       "  </tbody>\n",
       "</table>\n",
       "<p>5070 rows × 15 columns</p>\n",
       "</div>"
      ],
      "text/plain": [
       "            Date      Symbol Series  Prev Close     Open     High      Low  \\\n",
       "0     2000-01-03  BAJAUTOFIN     EQ       46.95    49.45    50.75    46.50   \n",
       "1     2000-01-04  BAJAUTOFIN     EQ       50.75    53.20    53.20    47.90   \n",
       "2     2000-01-05  BAJAUTOFIN     EQ       48.10    46.55    47.40    44.60   \n",
       "3     2000-01-06  BAJAUTOFIN     EQ       44.60    43.50    46.00    42.10   \n",
       "4     2000-01-07  BAJAUTOFIN     EQ       45.25    48.00    48.00    42.00   \n",
       "...          ...         ...    ...         ...      ...      ...      ...   \n",
       "5065  2020-08-25  BAJFINANCE     EQ     3492.05  3525.00  3660.00  3510.00   \n",
       "5066  2020-08-26  BAJFINANCE     EQ     3642.90  3665.00  3707.00  3631.00   \n",
       "5067  2020-08-27  BAJFINANCE     EQ     3645.55  3656.95  3668.40  3596.40   \n",
       "5068  2020-08-28  BAJFINANCE     EQ     3632.50  3650.00  3688.00  3617.05   \n",
       "5069  2020-08-31  BAJFINANCE     EQ     3670.80  3715.00  3749.85  3465.00   \n",
       "\n",
       "         Last    Close     VWAP   Volume      Turnover    Trades  \\\n",
       "0       50.75    50.75    50.05     7600  3.803800e+10       NaN   \n",
       "1       48.00    48.10    48.56     5000  2.428000e+10       NaN   \n",
       "2       44.60    44.60    45.47     3500  1.591450e+10       NaN   \n",
       "3       46.00    45.25    44.43     6200  2.754750e+10       NaN   \n",
       "4       42.90    42.90    44.44     3500  1.555550e+10       NaN   \n",
       "...       ...      ...      ...      ...           ...       ...   \n",
       "5065  3658.00  3642.90  3579.12  9854070  3.526895e+15  339815.0   \n",
       "5066  3638.20  3645.55  3668.17  6665336  2.444958e+15  213994.0   \n",
       "5067  3636.00  3632.50  3631.13  4611132  1.674361e+15  162374.0   \n",
       "5068  3672.05  3670.80  3652.77  4251575  1.553003e+15  137033.0   \n",
       "5069  3478.50  3487.80  3602.93  8529788  3.073224e+15  293454.0   \n",
       "\n",
       "      Deliverable Volume  %Deliverble  \n",
       "0                    NaN          NaN  \n",
       "1                    NaN          NaN  \n",
       "2                    NaN          NaN  \n",
       "3                    NaN          NaN  \n",
       "4                    NaN          NaN  \n",
       "...                  ...          ...  \n",
       "5065           1498309.0       0.1520  \n",
       "5066            944373.0       0.1417  \n",
       "5067            387513.0       0.0840  \n",
       "5068            434147.0       0.1021  \n",
       "5069           1321559.0       0.1549  \n",
       "\n",
       "[5070 rows x 15 columns]"
      ]
     },
     "execution_count": 4,
     "metadata": {},
     "output_type": "execute_result"
    }
   ],
   "source": [
    "df"
   ]
  },
  {
   "cell_type": "markdown",
   "id": "284b0c86",
   "metadata": {},
   "source": [
    "#### Data Wrangling & Plotting"
   ]
  },
  {
   "cell_type": "code",
   "execution_count": 5,
   "id": "a0844fa2",
   "metadata": {},
   "outputs": [],
   "source": [
    "# set indeks karena kita fokus ke data timeseries\n",
    "df.set_index('Date', inplace=True)"
   ]
  },
  {
   "cell_type": "markdown",
   "id": "b0efe2b3",
   "metadata": {},
   "source": [
    "Sehingga ketika kita bikin Date itu menjadi index maka kita sepertinya nggak mungkin pakai train_test_split"
   ]
  },
  {
   "cell_type": "code",
   "execution_count": 6,
   "id": "2399f36c",
   "metadata": {},
   "outputs": [
    {
     "data": {
      "text/plain": [
       "<Axes: xlabel='Date'>"
      ]
     },
     "execution_count": 6,
     "metadata": {},
     "output_type": "execute_result"
    },
    {
     "data": {
      "image/png": "[encoded data removed]",
      "text/plain": [
       "<Figure size 640x480 with 1 Axes>"
      ]
     },
     "metadata": {},
     "output_type": "display_data"
    }
   ],
   "source": [
    "df['VWAP'].plot()"
   ]
  },
  {
   "cell_type": "markdown",
   "id": "1099956c",
   "metadata": {},
   "source": [
    "#### Stationary Checking"
   ]
  },
  {
   "cell_type": "markdown",
   "id": "46d22676",
   "metadata": {},
   "source": [
    "#### Merupakan data tidak stasioner (sifat statistiknya tidak berubah secara signifikan dari waktu ke waktu)\n",
    "Dikarenakan time series. Jika pada variabel target kita diplot, dan ternyata harganya itu seperti mengalami kenaikan pada suatu waktu tertentu artinya ada semacam Season atau Musim dimana harga saham naik. Maka dari itu kita perlu terapin feature engineering untuk mengetahui lebih dalam mengenai musim tersebut."
   ]
  },
  {
   "cell_type": "code",
   "execution_count": 7,
   "id": "91b6245e",
   "metadata": {},
   "outputs": [
    {
     "data": {
      "text/plain": [
       "(5070, 14)"
      ]
     },
     "execution_count": 7,
     "metadata": {},
     "output_type": "execute_result"
    }
   ],
   "source": [
    "df.shape"
   ]
  },
  {
   "cell_type": "code",
   "execution_count": 8,
   "id": "947a7686",
   "metadata": {},
   "outputs": [
    {
     "data": {
      "text/plain": [
       "Symbol                   0\n",
       "Series                   0\n",
       "Prev Close               0\n",
       "Open                     0\n",
       "High                     0\n",
       "Low                      0\n",
       "Last                     0\n",
       "Close                    0\n",
       "VWAP                     0\n",
       "Volume                   0\n",
       "Turnover                 0\n",
       "Trades                2779\n",
       "Deliverable Volume     446\n",
       "%Deliverble            446\n",
       "dtype: int64"
      ]
     },
     "execution_count": 8,
     "metadata": {},
     "output_type": "execute_result"
    }
   ],
   "source": [
    "df.isna().sum()"
   ]
  },
  {
   "cell_type": "markdown",
   "id": "63af7e9c",
   "metadata": {},
   "source": [
    "Dikarenakan tidak terlalu banyak data yang null yaitu 446 dan 2779 pada tiga fitur terakhir tersebut. Mungkin akan cocok jika kita drop saja record data tersebut. Saya tidak mengisi dengan mean dikarenakan datanya cukup banyak jika ingin diisi. Selain itu jika kita lihat baris datanya dan berdasarkan plot, perbedaan harga dari awal-awal tahun 2000 sampai dengan tahun 2016 sangat tinggi perbedaannya. Sehingga mengisi NaN dengan mean/median/dll mungkin tidak terlalu cocok."
   ]
  },
  {
   "cell_type": "code",
   "execution_count": 9,
   "id": "0fca6528",
   "metadata": {},
   "outputs": [],
   "source": [
    "df.dropna(inplace=True)"
   ]
  },
  {
   "cell_type": "code",
   "execution_count": 10,
   "id": "45d47db2",
   "metadata": {},
   "outputs": [
    {
     "data": {
      "text/plain": [
       "Symbol                0\n",
       "Series                0\n",
       "Prev Close            0\n",
       "Open                  0\n",
       "High                  0\n",
       "Low                   0\n",
       "Last                  0\n",
       "Close                 0\n",
       "VWAP                  0\n",
       "Volume                0\n",
       "Turnover              0\n",
       "Trades                0\n",
       "Deliverable Volume    0\n",
       "%Deliverble           0\n",
       "dtype: int64"
      ]
     },
     "execution_count": 10,
     "metadata": {},
     "output_type": "execute_result"
    }
   ],
   "source": [
    "df.isna().sum()"
   ]
  },
  {
   "cell_type": "code",
   "execution_count": 11,
   "id": "4b9c51da",
   "metadata": {},
   "outputs": [
    {
     "data": {
      "text/plain": [
       "(2291, 14)"
      ]
     },
     "execution_count": 11,
     "metadata": {},
     "output_type": "execute_result"
    }
   ],
   "source": [
    "df.shape"
   ]
  },
  {
   "cell_type": "code",
   "execution_count": 12,
   "id": "d04dd68d",
   "metadata": {},
   "outputs": [
    {
     "data": {
      "text/html": [
       "<div>\n",
       "<style scoped>\n",
       "    .dataframe tbody tr th:only-of-type {\n",
       "        vertical-align: middle;\n",
       "    }\n",
       "\n",
       "    .dataframe tbody tr th {\n",
       "        vertical-align: top;\n",
       "    }\n",
       "\n",
       "    .dataframe thead th {\n",
       "        text-align: right;\n",
       "    }\n",
       "</style>\n",
       "<table border=\"1\" class=\"dataframe\">\n",
       "  <thead>\n",
       "    <tr style=\"text-align: right;\">\n",
       "      <th></th>\n",
       "      <th>Symbol</th>\n",
       "      <th>Series</th>\n",
       "      <th>Prev Close</th>\n",
       "      <th>Open</th>\n",
       "      <th>High</th>\n",
       "      <th>Low</th>\n",
       "      <th>Last</th>\n",
       "      <th>Close</th>\n",
       "      <th>VWAP</th>\n",
       "      <th>Volume</th>\n",
       "      <th>Turnover</th>\n",
       "      <th>Trades</th>\n",
       "      <th>Deliverable Volume</th>\n",
       "      <th>%Deliverble</th>\n",
       "    </tr>\n",
       "    <tr>\n",
       "      <th>Date</th>\n",
       "      <th></th>\n",
       "      <th></th>\n",
       "      <th></th>\n",
       "      <th></th>\n",
       "      <th></th>\n",
       "      <th></th>\n",
       "      <th></th>\n",
       "      <th></th>\n",
       "      <th></th>\n",
       "      <th></th>\n",
       "      <th></th>\n",
       "      <th></th>\n",
       "      <th></th>\n",
       "      <th></th>\n",
       "    </tr>\n",
       "  </thead>\n",
       "  <tbody>\n",
       "    <tr>\n",
       "      <th>2011-06-01</th>\n",
       "      <td>BAJFINANCE</td>\n",
       "      <td>EQ</td>\n",
       "      <td>616.70</td>\n",
       "      <td>617.00</td>\n",
       "      <td>636.50</td>\n",
       "      <td>616.00</td>\n",
       "      <td>627.00</td>\n",
       "      <td>631.85</td>\n",
       "      <td>627.01</td>\n",
       "      <td>6894</td>\n",
       "      <td>4.322621e+11</td>\n",
       "      <td>1416.0</td>\n",
       "      <td>3427.0</td>\n",
       "      <td>0.4971</td>\n",
       "    </tr>\n",
       "    <tr>\n",
       "      <th>2011-06-02</th>\n",
       "      <td>BAJFINANCE</td>\n",
       "      <td>EQ</td>\n",
       "      <td>631.85</td>\n",
       "      <td>625.00</td>\n",
       "      <td>638.90</td>\n",
       "      <td>620.00</td>\n",
       "      <td>634.00</td>\n",
       "      <td>633.45</td>\n",
       "      <td>636.04</td>\n",
       "      <td>2769</td>\n",
       "      <td>1.761205e+11</td>\n",
       "      <td>432.0</td>\n",
       "      <td>1718.0</td>\n",
       "      <td>0.6204</td>\n",
       "    </tr>\n",
       "    <tr>\n",
       "      <th>2011-06-03</th>\n",
       "      <td>BAJFINANCE</td>\n",
       "      <td>EQ</td>\n",
       "      <td>633.45</td>\n",
       "      <td>625.15</td>\n",
       "      <td>637.80</td>\n",
       "      <td>620.00</td>\n",
       "      <td>623.00</td>\n",
       "      <td>625.00</td>\n",
       "      <td>625.09</td>\n",
       "      <td>51427</td>\n",
       "      <td>3.214631e+12</td>\n",
       "      <td>135.0</td>\n",
       "      <td>50912.0</td>\n",
       "      <td>0.9900</td>\n",
       "    </tr>\n",
       "    <tr>\n",
       "      <th>2011-06-06</th>\n",
       "      <td>BAJFINANCE</td>\n",
       "      <td>EQ</td>\n",
       "      <td>625.00</td>\n",
       "      <td>620.00</td>\n",
       "      <td>641.00</td>\n",
       "      <td>611.35</td>\n",
       "      <td>611.35</td>\n",
       "      <td>614.00</td>\n",
       "      <td>616.03</td>\n",
       "      <td>5446</td>\n",
       "      <td>3.354910e+11</td>\n",
       "      <td>268.0</td>\n",
       "      <td>4312.0</td>\n",
       "      <td>0.7918</td>\n",
       "    </tr>\n",
       "    <tr>\n",
       "      <th>2011-06-07</th>\n",
       "      <td>BAJFINANCE</td>\n",
       "      <td>EQ</td>\n",
       "      <td>614.00</td>\n",
       "      <td>604.00</td>\n",
       "      <td>623.95</td>\n",
       "      <td>604.00</td>\n",
       "      <td>619.90</td>\n",
       "      <td>619.15</td>\n",
       "      <td>617.73</td>\n",
       "      <td>5991</td>\n",
       "      <td>3.700840e+11</td>\n",
       "      <td>273.0</td>\n",
       "      <td>4073.0</td>\n",
       "      <td>0.6799</td>\n",
       "    </tr>\n",
       "  </tbody>\n",
       "</table>\n",
       "</div>"
      ],
      "text/plain": [
       "                Symbol Series  Prev Close    Open    High     Low    Last  \\\n",
       "Date                                                                        \n",
       "2011-06-01  BAJFINANCE     EQ      616.70  617.00  636.50  616.00  627.00   \n",
       "2011-06-02  BAJFINANCE     EQ      631.85  625.00  638.90  620.00  634.00   \n",
       "2011-06-03  BAJFINANCE     EQ      633.45  625.15  637.80  620.00  623.00   \n",
       "2011-06-06  BAJFINANCE     EQ      625.00  620.00  641.00  611.35  611.35   \n",
       "2011-06-07  BAJFINANCE     EQ      614.00  604.00  623.95  604.00  619.90   \n",
       "\n",
       "             Close    VWAP  Volume      Turnover  Trades  Deliverable Volume  \\\n",
       "Date                                                                           \n",
       "2011-06-01  631.85  627.01    6894  4.322621e+11  1416.0              3427.0   \n",
       "2011-06-02  633.45  636.04    2769  1.761205e+11   432.0              1718.0   \n",
       "2011-06-03  625.00  625.09   51427  3.214631e+12   135.0             50912.0   \n",
       "2011-06-06  614.00  616.03    5446  3.354910e+11   268.0              4312.0   \n",
       "2011-06-07  619.15  617.73    5991  3.700840e+11   273.0              4073.0   \n",
       "\n",
       "            %Deliverble  \n",
       "Date                     \n",
       "2011-06-01       0.4971  \n",
       "2011-06-02       0.6204  \n",
       "2011-06-03       0.9900  \n",
       "2011-06-06       0.7918  \n",
       "2011-06-07       0.6799  "
      ]
     },
     "execution_count": 12,
     "metadata": {},
     "output_type": "execute_result"
    }
   ],
   "source": [
    "data = df.copy()\n",
    "data.head(5)"
   ]
  },
  {
   "cell_type": "code",
   "execution_count": 13,
   "id": "88ec1974",
   "metadata": {},
   "outputs": [
    {
     "name": "stdout",
     "output_type": "stream",
     "text": [
      "<class 'pandas.core.frame.DataFrame'>\n",
      "Index: 2291 entries, 2011-06-01 to 2020-08-31\n",
      "Data columns (total 14 columns):\n",
      " #   Column              Non-Null Count  Dtype  \n",
      "---  ------              --------------  -----  \n",
      " 0   Symbol              2291 non-null   object \n",
      " 1   Series              2291 non-null   object \n",
      " 2   Prev Close          2291 non-null   float64\n",
      " 3   Open                2291 non-null   float64\n",
      " 4   High                2291 non-null   float64\n",
      " 5   Low                 2291 non-null   float64\n",
      " 6   Last                2291 non-null   float64\n",
      " 7   Close               2291 non-null   float64\n",
      " 8   VWAP                2291 non-null   float64\n",
      " 9   Volume              2291 non-null   int64  \n",
      " 10  Turnover            2291 non-null   float64\n",
      " 11  Trades              2291 non-null   float64\n",
      " 12  Deliverable Volume  2291 non-null   float64\n",
      " 13  %Deliverble         2291 non-null   float64\n",
      "dtypes: float64(11), int64(1), object(2)\n",
      "memory usage: 268.5+ KB\n"
     ]
    }
   ],
   "source": [
    "data.info()"
   ]
  },
  {
   "cell_type": "code",
   "execution_count": 14,
   "id": "b1c54495",
   "metadata": {},
   "outputs": [
    {
     "data": {
      "text/plain": [
       "Index(['Symbol', 'Series', 'Prev Close', 'Open', 'High', 'Low', 'Last',\n",
       "       'Close', 'VWAP', 'Volume', 'Turnover', 'Trades', 'Deliverable Volume',\n",
       "       '%Deliverble'],\n",
       "      dtype='object')"
      ]
     },
     "execution_count": 14,
     "metadata": {},
     "output_type": "execute_result"
    }
   ],
   "source": [
    "data.columns"
   ]
  },
  {
   "cell_type": "code",
   "execution_count": 15,
   "id": "853125e4",
   "metadata": {},
   "outputs": [],
   "source": [
    "# fungsi untuk cek apakah suatu data/fitur itu statisioner\n",
    "def check_stationarity(ts):\n",
    "    dftest = adfuller(ts)\n",
    "    adf = dftest[0]\n",
    "    pvalue = dftest[1]\n",
    "    critical_value = dftest[4]['5%']\n",
    "    if (pvalue < 0.05) and (adf < critical_value):\n",
    "        print('The series is stationary')\n",
    "    else:\n",
    "        print('The series is NOT stationary')"
   ]
  },
  {
   "cell_type": "markdown",
   "id": "a843d064",
   "metadata": {},
   "source": [
    "stasioneritas merupakan sifat di mana statistik dasar deret waktu seperti rata-rata dan varians tidak berubah secara signifikan dari waktu ke waktu."
   ]
  },
  {
   "cell_type": "markdown",
   "id": "9ed78aa3",
   "metadata": {},
   "source": [
    "ADF itu cara uji statistik yang digunakan untuk menentukan apakah suatu deret waktu memiliki akar satuan (unit root), yang menunjukkan bahwa deret waktu tersebut tidak stasioner"
   ]
  },
  {
   "cell_type": "code",
   "execution_count": 16,
   "id": "6efe94a5",
   "metadata": {},
   "outputs": [],
   "source": [
    "def adfuller_test(sales):\n",
    "    result=adfuller(sales)\n",
    "    labels = ['ADF Test Statistic','p-value','#Lags Used','Number of Observations Used']\n",
    "    for value,label in zip(result,labels):\n",
    "        print(label+' : '+str(value) )\n",
    "    if result[1] <= 0.05:\n",
    "        print(\"strong evidence against the null hypothesis(Ho), reject the null hypothesis. Data has no unit root and is stationary\")\n",
    "    else:\n",
    "        print(\"weak evidence against null hypothesis, time series has a unit root, indicating it is non-stationary \")\n",
    "    "
   ]
  },
  {
   "cell_type": "code",
   "execution_count": 17,
   "id": "e0f72f7f",
   "metadata": {},
   "outputs": [
    {
     "name": "stdout",
     "output_type": "stream",
     "text": [
      "ADF Test Statistic : -2.8567752582428656\n",
      "p-value : 0.05061028668842635\n",
      "#Lags Used : 0\n",
      "Number of Observations Used : 2290\n",
      "weak evidence against null hypothesis, time series has a unit root, indicating it is non-stationary \n"
     ]
    }
   ],
   "source": [
    "adfuller_test(data['VWAP'])"
   ]
  },
  {
   "cell_type": "code",
   "execution_count": 18,
   "id": "38842c62",
   "metadata": {},
   "outputs": [
    {
     "name": "stdout",
     "output_type": "stream",
     "text": [
      "The series is NOT stationary\n"
     ]
    }
   ],
   "source": [
    "check_stationarity(data['VWAP'])"
   ]
  },
  {
   "cell_type": "markdown",
   "id": "ecc2edf5",
   "metadata": {},
   "source": [
    "#### Making Time Series Data"
   ]
  },
  {
   "cell_type": "markdown",
   "id": "f08c7734",
   "metadata": {},
   "source": [
    "#### lagging feature\n",
    "adalah nilai-nilai dari suatu variabel yang diambil pada waktu sebelumnya dalam rentang waktu tertentu. Tujuannya untuk menangkap pola atau tren dalam data yang bergantung pada nilai-nilai masa lalu.\n",
    "\n",
    "#### past behaviour of prices "
   ]
  },
  {
   "cell_type": "code",
   "execution_count": 19,
   "id": "3424cf4c",
   "metadata": {},
   "outputs": [],
   "source": [
    "lag_features = ['High','Low','Volume','Turnover','Trades']"
   ]
  },
  {
   "cell_type": "markdown",
   "id": "3f965541",
   "metadata": {},
   "source": [
    "#### relevansi\n",
    "untuk menentukan lagging features itu kita perlu mengetahui knowledge di bidang tersebut. Dimana fitur-fitur ini biasanya digunakan dalam analisis keuangan dan sangat penting untuk memahami perilaku pasar keuangan. 'High' dan 'Low' mewakili harga tertinggi dan terendah dari sekuritas selama periode tertentu, 'Volume' mewakili jumlah total saham atau kontrak yang diperdagangkan, 'Turnover' mengacu pada nilai total sekuritas yang diperdagangkan selama periode tertentu, dan 'Trades' menunjukkan jumlah perdagangan yang dieksekus......\n",
    "\n",
    "#### Indikator Likuiditas dan Volatilitas:\n",
    "'Volume' dan 'Trades' adalah indikator likuiditas pasar, yang mencerminkan kemudahan sekuritas untuk dibeli atau dijual tanpa memengaruhi harganya secara signifikan. Harga 'High' dan 'Low' memberikan wawasan tentang volatilitas sekuritas, yang sangat penting untuk penilaian risiko dan strategi perdagangan.\n",
    "\n",
    "#### Tampilan Komprehensif Aktivitas Pasar\n",
    "Bersama-sama, fitur-fitur ini memberikan pandangan komprehensif tentang aktivitas pasar untuk sekuritas tertentu. Fitur-fitur ini menangkap informasi mengenai pergerakan harga, aktivitas perdagangan, dan partisipasi pasar, yang penting untuk berbagai tujuan analisis seperti analisis teknikal, manajemen risiko, dan perdagangan algoritmik..."
   ]
  },
  {
   "cell_type": "code",
   "execution_count": 20,
   "id": "2cf59598",
   "metadata": {},
   "outputs": [],
   "source": [
    "window1 = 3\n",
    "window2 = 7"
   ]
  },
  {
   "cell_type": "markdown",
   "id": "058783d0",
   "metadata": {},
   "source": [
    "misalkan dalam rentang periode 3 dan 7 hari (mencoba), nantinya model hasil prediksi (TP) itu hanya mampu memprediksi 7 hari kedepan dengan sangat baik, mungkin kita bisa mencoba 7 hari terlebih dulu aja."
   ]
  },
  {
   "cell_type": "code",
   "execution_count": 21,
   "id": "79958e45",
   "metadata": {},
   "outputs": [],
   "source": [
    "for feature in lag_features:\n",
    "    data[feature+'rolling_mean_3'] = data[feature].rolling(window=window1).mean()\n",
    "    \n",
    "    data[feature+'rolling_mean_7'] = data[feature].rolling(window=window2).mean()"
   ]
  },
  {
   "cell_type": "code",
   "execution_count": 22,
   "id": "b6f6e082",
   "metadata": {},
   "outputs": [],
   "source": [
    "for feature in lag_features:\n",
    "    data[feature+'rolling_std_3'] = data[feature].rolling(window=window1).std()\n",
    "    \n",
    "    data[feature+'rolling_std_7'] = data[feature].rolling(window=window2).std()"
   ]
  },
  {
   "cell_type": "code",
   "execution_count": 23,
   "id": "8271e89c",
   "metadata": {},
   "outputs": [
    {
     "data": {
      "text/plain": [
       "Index(['Symbol', 'Series', 'Prev Close', 'Open', 'High', 'Low', 'Last',\n",
       "       'Close', 'VWAP', 'Volume', 'Turnover', 'Trades', 'Deliverable Volume',\n",
       "       '%Deliverble', 'Highrolling_mean_3', 'Highrolling_mean_7',\n",
       "       'Lowrolling_mean_3', 'Lowrolling_mean_7', 'Volumerolling_mean_3',\n",
       "       'Volumerolling_mean_7', 'Turnoverrolling_mean_3',\n",
       "       'Turnoverrolling_mean_7', 'Tradesrolling_mean_3',\n",
       "       'Tradesrolling_mean_7', 'Highrolling_std_3', 'Highrolling_std_7',\n",
       "       'Lowrolling_std_3', 'Lowrolling_std_7', 'Volumerolling_std_3',\n",
       "       'Volumerolling_std_7', 'Turnoverrolling_std_3', 'Turnoverrolling_std_7',\n",
       "       'Tradesrolling_std_3', 'Tradesrolling_std_7'],\n",
       "      dtype='object')"
      ]
     },
     "execution_count": 23,
     "metadata": {},
     "output_type": "execute_result"
    }
   ],
   "source": [
    "data.columns"
   ]
  },
  {
   "cell_type": "markdown",
   "id": "ad17eb58",
   "metadata": {},
   "source": [
    "### pemrosesan data yang tidak statisioner\n",
    "\n",
    "#### Rolling & Shifting\n",
    "\n",
    "Differencing (shifting) adalah teknik atau metode untuk membuat data menjadi stasioner\n",
    "\n",
    "Sedangkan Rolling pada dasarnya digunakan untuk menghaluskan deret Waktu di mana kita dapat menggunakan berbagai teknik seperti moving average, moving median atau beberapa pendekatan berbeda tergantung pada data yang kita miliki.\n",
    "\n",
    "Rolling sama seperti window bergulir 5 hari, window bergulir 6 hari, window bergulir 7 hari dan dapat dikatakan bahwa itu adalah window yang telah kita pertimbangkan untuk Moving average / median\n",
    "\n",
    "Fitur-fitur hasil perulangan menggunakan rolling mean dan std tersebut itu akan sangat membantu dalam prediki target kita nantinya yaitu 'Rata-rata harga saham berdasarkan volume perdagangan' terhadap setiap harinya. Dikarenakan sudah mengubah datanya menjadi Stasioner dan siap. Artinya fitur tersebut menjadi variabel independent"
   ]
  },
  {
   "cell_type": "code",
   "execution_count": 24,
   "id": "e854455d",
   "metadata": {},
   "outputs": [
    {
     "data": {
      "text/plain": [
       "Symbol                    0\n",
       "Series                    0\n",
       "Prev Close                0\n",
       "Open                      0\n",
       "High                      0\n",
       "Low                       0\n",
       "Last                      0\n",
       "Close                     0\n",
       "VWAP                      0\n",
       "Volume                    0\n",
       "Turnover                  0\n",
       "Trades                    0\n",
       "Deliverable Volume        0\n",
       "%Deliverble               0\n",
       "Highrolling_mean_3        2\n",
       "Highrolling_mean_7        6\n",
       "Lowrolling_mean_3         2\n",
       "Lowrolling_mean_7         6\n",
       "Volumerolling_mean_3      2\n",
       "Volumerolling_mean_7      6\n",
       "Turnoverrolling_mean_3    2\n",
       "Turnoverrolling_mean_7    6\n",
       "Tradesrolling_mean_3      2\n",
       "Tradesrolling_mean_7      6\n",
       "Highrolling_std_3         2\n",
       "Highrolling_std_7         6\n",
       "Lowrolling_std_3          2\n",
       "Lowrolling_std_7          6\n",
       "Volumerolling_std_3       2\n",
       "Volumerolling_std_7       6\n",
       "Turnoverrolling_std_3     2\n",
       "Turnoverrolling_std_7     6\n",
       "Tradesrolling_std_3       2\n",
       "Tradesrolling_std_7       6\n",
       "dtype: int64"
      ]
     },
     "execution_count": 24,
     "metadata": {},
     "output_type": "execute_result"
    }
   ],
   "source": [
    "data.isna().sum()"
   ]
  },
  {
   "cell_type": "code",
   "execution_count": 25,
   "id": "3c458e09",
   "metadata": {},
   "outputs": [],
   "source": [
    "# kita hapus aja data yang kosong\n",
    "data.dropna(inplace=True)"
   ]
  },
  {
   "cell_type": "code",
   "execution_count": 26,
   "id": "05c28270",
   "metadata": {},
   "outputs": [],
   "source": [
    "independen_features = ['Highrolling_mean_3', 'Highrolling_mean_7',\n",
    "       'Lowrolling_mean_3', 'Lowrolling_mean_7', 'Volumerolling_mean_3',\n",
    "       'Volumerolling_mean_7', 'Turnoverrolling_mean_3',\n",
    "       'Turnoverrolling_mean_7', 'Tradesrolling_mean_3',\n",
    "       'Tradesrolling_mean_7', 'Highrolling_std_3', 'Highrolling_std_7',\n",
    "       'Lowrolling_std_3', 'Lowrolling_std_7', 'Volumerolling_std_3',\n",
    "       'Volumerolling_std_7', 'Turnoverrolling_std_3', 'Turnoverrolling_std_7',\n",
    "       'Tradesrolling_std_3', 'Tradesrolling_std_7']"
   ]
  },
  {
   "cell_type": "code",
   "execution_count": 27,
   "id": "e0f23b86",
   "metadata": {},
   "outputs": [
    {
     "name": "stdout",
     "output_type": "stream",
     "text": [
      "<class 'pandas.core.frame.DataFrame'>\n",
      "Index: 2285 entries, 2011-06-09 to 2020-08-31\n",
      "Data columns (total 34 columns):\n",
      " #   Column                  Non-Null Count  Dtype  \n",
      "---  ------                  --------------  -----  \n",
      " 0   Symbol                  2285 non-null   object \n",
      " 1   Series                  2285 non-null   object \n",
      " 2   Prev Close              2285 non-null   float64\n",
      " 3   Open                    2285 non-null   float64\n",
      " 4   High                    2285 non-null   float64\n",
      " 5   Low                     2285 non-null   float64\n",
      " 6   Last                    2285 non-null   float64\n",
      " 7   Close                   2285 non-null   float64\n",
      " 8   VWAP                    2285 non-null   float64\n",
      " 9   Volume                  2285 non-null   int64  \n",
      " 10  Turnover                2285 non-null   float64\n",
      " 11  Trades                  2285 non-null   float64\n",
      " 12  Deliverable Volume      2285 non-null   float64\n",
      " 13  %Deliverble             2285 non-null   float64\n",
      " 14  Highrolling_mean_3      2285 non-null   float64\n",
      " 15  Highrolling_mean_7      2285 non-null   float64\n",
      " 16  Lowrolling_mean_3       2285 non-null   float64\n",
      " 17  Lowrolling_mean_7       2285 non-null   float64\n",
      " 18  Volumerolling_mean_3    2285 non-null   float64\n",
      " 19  Volumerolling_mean_7    2285 non-null   float64\n",
      " 20  Turnoverrolling_mean_3  2285 non-null   float64\n",
      " 21  Turnoverrolling_mean_7  2285 non-null   float64\n",
      " 22  Tradesrolling_mean_3    2285 non-null   float64\n",
      " 23  Tradesrolling_mean_7    2285 non-null   float64\n",
      " 24  Highrolling_std_3       2285 non-null   float64\n",
      " 25  Highrolling_std_7       2285 non-null   float64\n",
      " 26  Lowrolling_std_3        2285 non-null   float64\n",
      " 27  Lowrolling_std_7        2285 non-null   float64\n",
      " 28  Volumerolling_std_3     2285 non-null   float64\n",
      " 29  Volumerolling_std_7     2285 non-null   float64\n",
      " 30  Turnoverrolling_std_3   2285 non-null   float64\n",
      " 31  Turnoverrolling_std_7   2285 non-null   float64\n",
      " 32  Tradesrolling_std_3     2285 non-null   float64\n",
      " 33  Tradesrolling_std_7     2285 non-null   float64\n",
      "dtypes: float64(31), int64(1), object(2)\n",
      "memory usage: 624.8+ KB\n"
     ]
    }
   ],
   "source": [
    "dataset = data.copy()\n",
    "dataset.info()"
   ]
  },
  {
   "cell_type": "code",
   "execution_count": 28,
   "id": "0c06a2cf",
   "metadata": {},
   "outputs": [
    {
     "name": "stdout",
     "output_type": "stream",
     "text": [
      "ADF Test Statistic : -2.856661111400353\n",
      "p-value : 0.05062482081558306\n",
      "#Lags Used : 0\n",
      "Number of Observations Used : 2284\n",
      "weak evidence against null hypothesis, time series has a unit root, indicating it is non-stationary \n"
     ]
    }
   ],
   "source": [
    "adfuller_test(dataset['VWAP'])"
   ]
  },
  {
   "cell_type": "code",
   "execution_count": 29,
   "id": "64c14616",
   "metadata": {},
   "outputs": [
    {
     "name": "stdout",
     "output_type": "stream",
     "text": [
      "The series is NOT stationary\n"
     ]
    }
   ],
   "source": [
    "check_stationarity(dataset['VWAP'])"
   ]
  },
  {
   "cell_type": "markdown",
   "id": "b165e71f",
   "metadata": {},
   "source": [
    "#### Plot ACF dan PACF"
   ]
  },
  {
   "cell_type": "code",
   "execution_count": 30,
   "id": "6166eb11",
   "metadata": {},
   "outputs": [],
   "source": [
    "from statsmodels.graphics.tsaplots import plot_acf,plot_pacf"
   ]
  },
  {
   "cell_type": "code",
   "execution_count": 31,
   "id": "943004ff",
   "metadata": {},
   "outputs": [
    {
     "data": {
      "image/png": "[encoded data removed]",
      "text/plain": [
       "<Figure size 1200x400 with 1 Axes>"
      ]
     },
     "metadata": {},
     "output_type": "display_data"
    }
   ],
   "source": [
    "plt.figure(figsize= (12,4))\n",
    "plt.plot(dataset['VWAP'], label = \"Harga Saham\")\n",
    "plt.legend()\n",
    "plt.title('Plot Harga Saham')\n",
    "plt.xlabel(\"Waktu per hari\")\n",
    "plt.ylabel(\"VWAP\")\n",
    "plt.show();"
   ]
  },
  {
   "cell_type": "markdown",
   "id": "7fdc9e71",
   "metadata": {},
   "source": [
    "## Arima Modelling\n",
    "AR + I + MA\n",
    "\n",
    "ARIMA --> (P, d, q)\n",
    "\n",
    "AR\t= Auto Regressive Model:\n",
    "AR ini nantinya akan menghasilkan nilai dari P.\n",
    "Untuk mencari P itu kita akan menggunakan PACF. PACF adalah Partial Auto Correlation Factor.\n",
    "\n",
    "I\t= Integrity / Diferencing:\n",
    "I ini nantinya akan menghasilkan nilai dari d.\n",
    "Untuk mencari D itu menggunakan konsep Differencing kita bisa mencari nilai d.\n",
    "\n",
    "MA\t= Moving Average:\n",
    "MA ini nantinya akan menghasilkan nilai dari q.\n",
    "Lalu untuk mencari nilai q itu kita bisa menggunakan konsep ACF atau Auto correlation Factor. \n",
    "\n",
    "Residual = Error"
   ]
  },
  {
   "cell_type": "code",
   "execution_count": 32,
   "id": "c390ab30",
   "metadata": {},
   "outputs": [
    {
     "data": {
      "image/png": "[encoded data removed]",
      "text/plain": [
       "<Figure size 1200x600 with 2 Axes>"
      ]
     },
     "metadata": {},
     "output_type": "display_data"
    }
   ],
   "source": [
    "\n",
    "# plot ACF and PACF on initial given sales values:\n",
    "# Create a 2x1 subplot grid\n",
    "fig, (ax1, ax2) = plt.subplots(nrows=2, figsize=(12, 6))\n",
    "\n",
    "# Plot Autocorrelation Function (ACF)\n",
    "plot_acf(dataset['VWAP'], lags=40, ax=ax1)\n",
    "ax1.set_title('Autocorrelation Function')\n",
    "\n",
    "# Plot Partial Autocorrelation Function (PACF)\n",
    "plot_pacf(dataset['VWAP'], lags=40, ax=ax2)\n",
    "ax2.set_title('Partial Autocorrelation Function')\n",
    "\n",
    "# Adjust layout for better readability\n",
    "plt.tight_layout()\n",
    "\n",
    "# Show the plots\n",
    "plt.show()"
   ]
  },
  {
   "cell_type": "markdown",
   "id": "023f2457",
   "metadata": {},
   "source": [
    "Berdasarkan hasil analisis dengan mencari nilai yang cocok (try and error berulang kali) terhadap nilai p, d, dan q aku masih bingung untuk nentuin nilainya. kita bisa coba auto arima dulu"
   ]
  },
  {
   "cell_type": "code",
   "execution_count": 33,
   "id": "01759e30",
   "metadata": {},
   "outputs": [],
   "source": [
    "# train = 80%\n",
    "train_data = dataset[0:1800]\n",
    "test_data = dataset[1800:]"
   ]
  },
  {
   "cell_type": "code",
   "execution_count": 67,
   "id": "1127b9b7",
   "metadata": {},
   "outputs": [
    {
     "data": {
      "text/plain": [
       "(1800, 34)"
      ]
     },
     "execution_count": 67,
     "metadata": {},
     "output_type": "execute_result"
    }
   ],
   "source": [
    "train_data.shape"
   ]
  },
  {
   "cell_type": "code",
   "execution_count": 48,
   "id": "52ba4926",
   "metadata": {},
   "outputs": [
    {
     "name": "stdout",
     "output_type": "stream",
     "text": [
      "2.0.4\n"
     ]
    }
   ],
   "source": [
    "import pmdarima\n",
    "print(pmdarima.__version__)"
   ]
  },
  {
   "cell_type": "code",
   "execution_count": 51,
   "id": "bd3b233f",
   "metadata": {},
   "outputs": [],
   "source": [
    "# implementasi auto arima dengan input data latih independen dan target\n",
    "from pmdarima import auto_arima\n",
    "\n",
    "# seharusnya pake parameter traace = True, tapi karena versi terbaru pmdarima itu udh automatis\n",
    "# trace True itu artinya ingin mencari nilai (p, d, q) terbaik\n",
    "model = auto_arima(y = train_data['VWAP'] , X = train_data[independen_features])"
   ]
  },
  {
   "cell_type": "code",
   "execution_count": 52,
   "id": "342ed6c2",
   "metadata": {},
   "outputs": [],
   "source": [
    "forecast = model.predict(n_periods=len(test_data), X = test_data[independen_features])"
   ]
  },
  {
   "cell_type": "code",
   "execution_count": 53,
   "id": "0eb8ad15",
   "metadata": {},
   "outputs": [],
   "source": [
    "# karena arima sekarang terima array melalui pandas\n",
    "test_data['Forecast_ARIMA'] = forecast.values"
   ]
  },
  {
   "cell_type": "code",
   "execution_count": 66,
   "id": "43ce6c78",
   "metadata": {},
   "outputs": [
    {
     "data": {
      "text/html": [
       "<div>\n",
       "<style scoped>\n",
       "    .dataframe tbody tr th:only-of-type {\n",
       "        vertical-align: middle;\n",
       "    }\n",
       "\n",
       "    .dataframe tbody tr th {\n",
       "        vertical-align: top;\n",
       "    }\n",
       "\n",
       "    .dataframe thead th {\n",
       "        text-align: right;\n",
       "    }\n",
       "</style>\n",
       "<table border=\"1\" class=\"dataframe\">\n",
       "  <thead>\n",
       "    <tr style=\"text-align: right;\">\n",
       "      <th></th>\n",
       "      <th>Symbol</th>\n",
       "      <th>Series</th>\n",
       "      <th>Prev Close</th>\n",
       "      <th>Open</th>\n",
       "      <th>High</th>\n",
       "      <th>Low</th>\n",
       "      <th>Last</th>\n",
       "      <th>Close</th>\n",
       "      <th>VWAP</th>\n",
       "      <th>Volume</th>\n",
       "      <th>...</th>\n",
       "      <th>Highrolling_std_7</th>\n",
       "      <th>Lowrolling_std_3</th>\n",
       "      <th>Lowrolling_std_7</th>\n",
       "      <th>Volumerolling_std_3</th>\n",
       "      <th>Volumerolling_std_7</th>\n",
       "      <th>Turnoverrolling_std_3</th>\n",
       "      <th>Turnoverrolling_std_7</th>\n",
       "      <th>Tradesrolling_std_3</th>\n",
       "      <th>Tradesrolling_std_7</th>\n",
       "      <th>Forecast_ARIMA</th>\n",
       "    </tr>\n",
       "    <tr>\n",
       "      <th>Date</th>\n",
       "      <th></th>\n",
       "      <th></th>\n",
       "      <th></th>\n",
       "      <th></th>\n",
       "      <th></th>\n",
       "      <th></th>\n",
       "      <th></th>\n",
       "      <th></th>\n",
       "      <th></th>\n",
       "      <th></th>\n",
       "      <th></th>\n",
       "      <th></th>\n",
       "      <th></th>\n",
       "      <th></th>\n",
       "      <th></th>\n",
       "      <th></th>\n",
       "      <th></th>\n",
       "      <th></th>\n",
       "      <th></th>\n",
       "      <th></th>\n",
       "      <th></th>\n",
       "    </tr>\n",
       "  </thead>\n",
       "  <tbody>\n",
       "    <tr>\n",
       "      <th>2018-09-11</th>\n",
       "      <td>BAJFINANCE</td>\n",
       "      <td>EQ</td>\n",
       "      <td>2615.65</td>\n",
       "      <td>2621.00</td>\n",
       "      <td>2668.80</td>\n",
       "      <td>2562.25</td>\n",
       "      <td>2600.0</td>\n",
       "      <td>2600.75</td>\n",
       "      <td>2619.05</td>\n",
       "      <td>3357660</td>\n",
       "      <td>...</td>\n",
       "      <td>63.787942</td>\n",
       "      <td>56.544592</td>\n",
       "      <td>53.608580</td>\n",
       "      <td>1.130645e+06</td>\n",
       "      <td>816410.887112</td>\n",
       "      <td>2.905375e+14</td>\n",
       "      <td>2.170264e+14</td>\n",
       "      <td>40756.099335</td>\n",
       "      <td>32012.681782</td>\n",
       "      <td>2600.714852</td>\n",
       "    </tr>\n",
       "    <tr>\n",
       "      <th>2018-09-12</th>\n",
       "      <td>BAJFINANCE</td>\n",
       "      <td>EQ</td>\n",
       "      <td>2600.75</td>\n",
       "      <td>2617.95</td>\n",
       "      <td>2636.95</td>\n",
       "      <td>2516.10</td>\n",
       "      <td>2588.9</td>\n",
       "      <td>2594.00</td>\n",
       "      <td>2577.54</td>\n",
       "      <td>2682340</td>\n",
       "      <td>...</td>\n",
       "      <td>51.914260</td>\n",
       "      <td>40.110047</td>\n",
       "      <td>66.236890</td>\n",
       "      <td>9.025933e+05</td>\n",
       "      <td>835125.949241</td>\n",
       "      <td>2.325644e+14</td>\n",
       "      <td>2.156391e+14</td>\n",
       "      <td>31297.267202</td>\n",
       "      <td>34656.587966</td>\n",
       "      <td>2625.118143</td>\n",
       "    </tr>\n",
       "    <tr>\n",
       "      <th>2018-09-14</th>\n",
       "      <td>BAJFINANCE</td>\n",
       "      <td>EQ</td>\n",
       "      <td>2594.00</td>\n",
       "      <td>2630.50</td>\n",
       "      <td>2683.50</td>\n",
       "      <td>2626.25</td>\n",
       "      <td>2678.0</td>\n",
       "      <td>2672.20</td>\n",
       "      <td>2651.42</td>\n",
       "      <td>1795131</td>\n",
       "      <td>...</td>\n",
       "      <td>47.776811</td>\n",
       "      <td>55.315527</td>\n",
       "      <td>61.033875</td>\n",
       "      <td>7.836553e+05</td>\n",
       "      <td>800730.132185</td>\n",
       "      <td>2.018671e+14</td>\n",
       "      <td>2.036245e+14</td>\n",
       "      <td>31471.093038</td>\n",
       "      <td>33742.606344</td>\n",
       "      <td>2600.960885</td>\n",
       "    </tr>\n",
       "    <tr>\n",
       "      <th>2018-09-17</th>\n",
       "      <td>BAJFINANCE</td>\n",
       "      <td>EQ</td>\n",
       "      <td>2672.20</td>\n",
       "      <td>2660.00</td>\n",
       "      <td>2660.00</td>\n",
       "      <td>2588.25</td>\n",
       "      <td>2596.0</td>\n",
       "      <td>2604.60</td>\n",
       "      <td>2613.75</td>\n",
       "      <td>1455320</td>\n",
       "      <td>...</td>\n",
       "      <td>44.294307</td>\n",
       "      <td>55.950343</td>\n",
       "      <td>57.040858</td>\n",
       "      <td>6.335337e+05</td>\n",
       "      <td>818929.309318</td>\n",
       "      <td>1.593010e+14</td>\n",
       "      <td>2.094265e+14</td>\n",
       "      <td>35128.684296</td>\n",
       "      <td>34854.254176</td>\n",
       "      <td>2556.393581</td>\n",
       "    </tr>\n",
       "    <tr>\n",
       "      <th>2018-09-18</th>\n",
       "      <td>BAJFINANCE</td>\n",
       "      <td>EQ</td>\n",
       "      <td>2604.60</td>\n",
       "      <td>2610.00</td>\n",
       "      <td>2627.45</td>\n",
       "      <td>2559.00</td>\n",
       "      <td>2563.4</td>\n",
       "      <td>2570.40</td>\n",
       "      <td>2597.61</td>\n",
       "      <td>1449290</td>\n",
       "      <td>...</td>\n",
       "      <td>47.625517</td>\n",
       "      <td>33.719740</td>\n",
       "      <td>50.588419</td>\n",
       "      <td>1.979536e+05</td>\n",
       "      <td>780029.521271</td>\n",
       "      <td>5.634743e+13</td>\n",
       "      <td>2.006348e+14</td>\n",
       "      <td>10189.437390</td>\n",
       "      <td>32916.577887</td>\n",
       "      <td>2572.863698</td>\n",
       "    </tr>\n",
       "  </tbody>\n",
       "</table>\n",
       "<p>5 rows × 35 columns</p>\n",
       "</div>"
      ],
      "text/plain": [
       "                Symbol Series  Prev Close     Open     High      Low    Last  \\\n",
       "Date                                                                           \n",
       "2018-09-11  BAJFINANCE     EQ     2615.65  2621.00  2668.80  2562.25  2600.0   \n",
       "2018-09-12  BAJFINANCE     EQ     2600.75  2617.95  2636.95  2516.10  2588.9   \n",
       "2018-09-14  BAJFINANCE     EQ     2594.00  2630.50  2683.50  2626.25  2678.0   \n",
       "2018-09-17  BAJFINANCE     EQ     2672.20  2660.00  2660.00  2588.25  2596.0   \n",
       "2018-09-18  BAJFINANCE     EQ     2604.60  2610.00  2627.45  2559.00  2563.4   \n",
       "\n",
       "              Close     VWAP   Volume  ...  Highrolling_std_7  \\\n",
       "Date                                   ...                      \n",
       "2018-09-11  2600.75  2619.05  3357660  ...          63.787942   \n",
       "2018-09-12  2594.00  2577.54  2682340  ...          51.914260   \n",
       "2018-09-14  2672.20  2651.42  1795131  ...          47.776811   \n",
       "2018-09-17  2604.60  2613.75  1455320  ...          44.294307   \n",
       "2018-09-18  2570.40  2597.61  1449290  ...          47.625517   \n",
       "\n",
       "            Lowrolling_std_3  Lowrolling_std_7  Volumerolling_std_3  \\\n",
       "Date                                                                  \n",
       "2018-09-11         56.544592         53.608580         1.130645e+06   \n",
       "2018-09-12         40.110047         66.236890         9.025933e+05   \n",
       "2018-09-14         55.315527         61.033875         7.836553e+05   \n",
       "2018-09-17         55.950343         57.040858         6.335337e+05   \n",
       "2018-09-18         33.719740         50.588419         1.979536e+05   \n",
       "\n",
       "            Volumerolling_std_7  Turnoverrolling_std_3  Turnoverrolling_std_7  \\\n",
       "Date                                                                            \n",
       "2018-09-11        816410.887112           2.905375e+14           2.170264e+14   \n",
       "2018-09-12        835125.949241           2.325644e+14           2.156391e+14   \n",
       "2018-09-14        800730.132185           2.018671e+14           2.036245e+14   \n",
       "2018-09-17        818929.309318           1.593010e+14           2.094265e+14   \n",
       "2018-09-18        780029.521271           5.634743e+13           2.006348e+14   \n",
       "\n",
       "            Tradesrolling_std_3  Tradesrolling_std_7  Forecast_ARIMA  \n",
       "Date                                                                  \n",
       "2018-09-11         40756.099335         32012.681782     2600.714852  \n",
       "2018-09-12         31297.267202         34656.587966     2625.118143  \n",
       "2018-09-14         31471.093038         33742.606344     2600.960885  \n",
       "2018-09-17         35128.684296         34854.254176     2556.393581  \n",
       "2018-09-18         10189.437390         32916.577887     2572.863698  \n",
       "\n",
       "[5 rows x 35 columns]"
      ]
     },
     "execution_count": 66,
     "metadata": {},
     "output_type": "execute_result"
    }
   ],
   "source": [
    "test_data.head(5)"
   ]
  },
  {
   "cell_type": "code",
   "execution_count": 55,
   "id": "68680af9",
   "metadata": {},
   "outputs": [
    {
     "data": {
      "text/plain": [
       "<Axes: xlabel='Date'>"
      ]
     },
     "execution_count": 55,
     "metadata": {},
     "output_type": "execute_result"
    },
    {
     "data": {
      "image/png": "[encoded data removed]",
      "text/plain": [
       "<Figure size 1400x700 with 1 Axes>"
      ]
     },
     "metadata": {},
     "output_type": "display_data"
    }
   ],
   "source": [
    "test_data[['VWAP','Forecast_ARIMA']].plot(figsize=(14,7))"
   ]
  },
  {
   "cell_type": "markdown",
   "id": "5f1a6b5e",
   "metadata": {},
   "source": [
    "#### Memeriksa tren dari prediksi"
   ]
  },
  {
   "cell_type": "code",
   "execution_count": 59,
   "id": "b21a20ee",
   "metadata": {},
   "outputs": [],
   "source": [
    "from sklearn.metrics import mean_absolute_error, mean_squared_error"
   ]
  },
  {
   "cell_type": "code",
   "execution_count": 61,
   "id": "e9d3311c",
   "metadata": {},
   "outputs": [
    {
     "data": {
      "application/javascript": [
       "\n",
       "        if (window._pyforest_update_imports_cell) { window._pyforest_update_imports_cell('import numpy as np\\nimport pandas as pd\\nimport os'); }\n",
       "    "
      ],
      "text/plain": [
       "<IPython.core.display.Javascript object>"
      ]
     },
     "metadata": {},
     "output_type": "display_data"
    },
    {
     "data": {
      "text/plain": [
       "187.79989085859174"
      ]
     },
     "execution_count": 61,
     "metadata": {},
     "output_type": "execute_result"
    }
   ],
   "source": [
    "np.sqrt(mean_squared_error(test_data['VWAP'],test_data['Forecast_ARIMA']))"
   ]
  },
  {
   "cell_type": "code",
   "execution_count": 62,
   "id": "9192702d",
   "metadata": {},
   "outputs": [
    {
     "data": {
      "text/plain": [
       "124.668574373447"
      ]
     },
     "execution_count": 62,
     "metadata": {},
     "output_type": "execute_result"
    }
   ],
   "source": [
    "mean_absolute_error(test_data['VWAP'],test_data['Forecast_ARIMA'])"
   ]
  },
  {
   "cell_type": "markdown",
   "id": "25984185",
   "metadata": {},
   "source": [
    "Berdasarkan hasil evaluasi dari nilai MSE dan MAE yang didapat, maka diketahui bahwa model prediksi menggunakan Auto ARIMA cukup baik dalam memprediksi harga saham pada suatu waktu tertentu. Hal ini dikarenakan nilai dari MSE dan MAE yang cukup kecil mengenai selisih nilai asli atau nilai VWAP ril terhadap nilai hasil prediksi."
   ]
  },
  {
   "cell_type": "code",
   "execution_count": null,
   "id": "fed85766",
   "metadata": {},
   "outputs": [],
   "source": [
    "model.forecast()"
   ]
  },
  {
   "cell_type": "code",
   "execution_count": 68,
   "id": "dd420b89",
   "metadata": {},
   "outputs": [],
   "source": [
    "import pickle"
   ]
  },
  {
   "cell_type": "code",
   "execution_count": 69,
   "id": "2f2d6803",
   "metadata": {},
   "outputs": [],
   "source": [
    "rute = 'C:/Users/ASUS/kode/projek/stok_harga/BAJFINANCE_prediction_Aarima.pkl'\n",
    "with open(rute, 'wb') as files:\n",
    "    pickle.dump(model,files)"
   ]
  },
  {
   "cell_type": "code",
   "execution_count": null,
   "id": "18e414e8",
   "metadata": {},
   "outputs": [],
   "source": []
  },
  {
   "cell_type": "code",
   "execution_count": null,
   "id": "24da921f",
   "metadata": {},
   "outputs": [],
   "source": []
  },
  {
   "cell_type": "code",
   "execution_count": null,
   "id": "a284b206",
   "metadata": {},
   "outputs": [],
   "source": []
  }
 ],
 "metadata": {
  "kernelspec": {
   "display_name": "Python 3 (ipykernel)",
   "language": "python",
   "name": "python3"
  },
  "language_info": {
   "codemirror_mode": {
    "name": "ipython",
    "version": 3
   },
   "file_extension": ".py",
   "mimetype": "text/x-python",
   "name": "python",
   "nbconvert_exporter": "python",
   "pygments_lexer": "ipython3",
   "version": "3.11.5"
  }
 },
 "nbformat": 4,
 "nbformat_minor": 5
}
